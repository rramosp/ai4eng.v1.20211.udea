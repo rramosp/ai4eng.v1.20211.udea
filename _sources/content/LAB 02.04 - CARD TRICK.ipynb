{
 "cells": [
  {
   "cell_type": "markdown",
   "metadata": {},
   "source": [
    "# LAB 02.04 - Card trick"
   ]
  },
  {
   "cell_type": "code",
   "execution_count": 1,
   "metadata": {},
   "outputs": [],
   "source": [
    "!wget --no-cache -O init.py -q https://raw.githubusercontent.com/rramosp/ai4eng.v1.20211.udea/main/content/init.py\n",
    "import init; init.init(force_download=False); init.get_weblink()\n"
   ]
  },
  {
   "cell_type": "code",
   "execution_count": 54,
   "metadata": {},
   "outputs": [],
   "source": [
    "from local.lib.rlxmoocapi import submit, session\n",
    "student = session.Session(init.endpoint).login( course_id=init.course_id, \n",
    "                                                lab_id=\"L02.04\" )"
   ]
  },
  {
   "cell_type": "code",
   "execution_count": 6,
   "metadata": {},
   "outputs": [],
   "source": [
    "import numpy as np\n",
    "import pandas as pd\n",
    "import itertools"
   ]
  },
  {
   "cell_type": "markdown",
   "metadata": {},
   "source": [
    "## Setup \n",
    "\n",
    "make sure to **what the corresponding video** to understand the card trick.\n",
    "\n",
    "### create a deck for a given configuration\n",
    "\n",
    "The following function returns a list of **card names**. The `shuffle` argument is self evident. We use two letters as an arbitrary card name so that we have enough names for large configurations."
   ]
  },
  {
   "cell_type": "code",
   "execution_count": 7,
   "metadata": {},
   "outputs": [],
   "source": [
    "\n",
    "def create_deck(n_heaps, cards_per_heap, shuffle=False):\n",
    "    n_cards = n_heaps * cards_per_heap\n",
    "    \n",
    "    chars = [chr(i) for i in np.arange(26)+65]\n",
    "    names = [i+j for i,j in itertools.product(chars, chars)]    \n",
    "\n",
    "    assert n_cards < len(names), \"cannot have more than %d cards\"%len(name)\n",
    "    \n",
    "    c = np.r_[names[:n_cards]]\n",
    "    if shuffle:\n",
    "        c = np.random.permutation(c)\n",
    "    return c"
   ]
  },
  {
   "cell_type": "code",
   "execution_count": 8,
   "metadata": {},
   "outputs": [],
   "source": [
    "create_deck(n_heaps=3, cards_per_heap=10, shuffle=False)"
   ]
  },
  {
   "cell_type": "code",
   "execution_count": 9,
   "metadata": {},
   "outputs": [],
   "source": [
    "create_deck(n_heaps=3, cards_per_heap=7, shuffle=True)"
   ]
  },
  {
   "cell_type": "code",
   "execution_count": 10,
   "metadata": {},
   "outputs": [],
   "source": [
    "create_deck(n_heaps=3, cards_per_heap=10, shuffle=True)"
   ]
  },
  {
   "cell_type": "markdown",
   "metadata": {},
   "source": [
    "### pick a card\n",
    "\n",
    "the following function randomly picks a card from a deck"
   ]
  },
  {
   "cell_type": "code",
   "execution_count": 11,
   "metadata": {},
   "outputs": [],
   "source": [
    "def pick_card(c):\n",
    "    return np.random.choice(c)"
   ]
  },
  {
   "cell_type": "code",
   "execution_count": 12,
   "metadata": {},
   "outputs": [],
   "source": [
    "c = create_deck(n_heaps=3, cards_per_heap=7, shuffle=True)\n",
    "n = pick_card(c)\n",
    "n"
   ]
  },
  {
   "cell_type": "markdown",
   "metadata": {},
   "source": [
    "## Task 1. Make the heaps\n",
    "\n",
    "Complete the following funcion so that given desk (as a list returned by `create_deck`) distributes the cards in `n_heaps` according to the procedure of the card trick shown in the video.\n",
    "\n",
    "The heaps must be a list of `n_heaps` lists, each one with `len(c)/n_heaps` card names.\n",
    "\n",
    "`n_heaps` will be an odd number (so that later we can put the chosen heap in the middle of the others), and must be a divisor of the total number of cards in the deck (so that all heaps have the same number of cards)\n",
    "\n",
    "For instance, \n",
    "\n",
    "    >>> n_heaps = 3\n",
    "    >>> c = create_deck(n_heaps=n_heaps, cards_per_heap=7)\n",
    "    >>> h = make_heaps(c, n_heaps)\n",
    "    >>> print(\"deck\", c)\n",
    "    >>> print(\"heaps\")\n",
    "    >>> h   \n",
    "\n",
    "    deck ['AA' 'AB' 'AC' 'AD' 'AE' 'AF' 'AG' 'AH' 'AI' 'AJ' 'AK' 'AL' 'AM' 'AN'\n",
    "     'AO' 'AP' 'AQ' 'AR' 'AS' 'AT' 'AU']\n",
    "    heaps\n",
    "    [['AA', 'AD', 'AG', 'AJ', 'AM', 'AP', 'AS'],\n",
    "     ['AB', 'AE', 'AH', 'AK', 'AN', 'AQ', 'AT'],\n",
    "     ['AC', 'AF', 'AI', 'AL', 'AO', 'AR', 'AU']]\n",
    "  \n",
    "or also\n",
    "\n",
    "    >>> n_heaps = 5\n",
    "    >>> c = create_deck(n_heaps=n_heaps, cards_per_heap=3, shuffle=True)\n",
    "    >>> h = make_heaps(c, n_heaps)\n",
    "    >>> print(\"deck\", c)\n",
    "    >>> print(\"heaps\")\n",
    "    >>> h\n",
    "    \n",
    "    deck ['AA' 'AJ' 'AM' 'AK' 'AH' 'AF' 'AD' 'AN' 'AB' 'AC' 'AG' 'AE' 'AL' 'AI'\n",
    "     'AO']\n",
    "    heaps\n",
    "    [['AA', 'AF', 'AG'],\n",
    "     ['AJ', 'AD', 'AE'],\n",
    "     ['AM', 'AN', 'AL'],\n",
    "     ['AK', 'AB', 'AI'],\n",
    "     ['AH', 'AC', 'AO']]"
   ]
  },
  {
   "cell_type": "code",
   "execution_count": 621,
   "metadata": {},
   "outputs": [],
   "source": [
    "def make_heaps(c, n_heaps=3):\n",
    "    assert n_heaps%2==1, \"must have an odd number of heaps\"\n",
    "    assert len(c)%n_heaps==0, \"the length of the deck must be a multiple of the number of heaps\"\n",
    "    \n",
    "    h = ... # YOUR CODE HERE\n",
    "    return h"
   ]
  },
  {
   "cell_type": "markdown",
   "metadata": {},
   "source": [
    "manually check your code"
   ]
  },
  {
   "cell_type": "code",
   "execution_count": 14,
   "metadata": {},
   "outputs": [],
   "source": [
    "n_heaps = 3\n",
    "c = create_deck(n_heaps=n_heaps, cards_per_heap=7)\n",
    "h = make_heaps(c, n_heaps)\n",
    "\n",
    "print(\"deck\", c)\n",
    "print(\"heaps\")\n",
    "h\n"
   ]
  },
  {
   "cell_type": "code",
   "execution_count": 15,
   "metadata": {},
   "outputs": [],
   "source": [
    "n_heaps = 5\n",
    "c = create_deck(n_heaps=n_heaps, cards_per_heap=3, shuffle=True)\n",
    "h = make_heaps(c, n_heaps)\n",
    "\n",
    "print(\"deck\", c)\n",
    "print(\"heaps\")\n",
    "h\n"
   ]
  },
  {
   "cell_type": "markdown",
   "metadata": {},
   "source": [
    "**submit your code**"
   ]
  },
  {
   "cell_type": "code",
   "execution_count": 73,
   "metadata": {
    "scrolled": false
   },
   "outputs": [],
   "source": [
    "student.submit_task(globals(), task_id=\"task_01\");"
   ]
  },
  {
   "cell_type": "code",
   "execution_count": null,
   "metadata": {},
   "outputs": [],
   "source": []
  },
  {
   "cell_type": "markdown",
   "metadata": {},
   "source": [
    "## Task 2: Organize the heaps\n",
    "\n",
    "Complete the following funcion so that given a set of heaps (such as the ones returned by the function of the previous task) and a card name:\n",
    "\n",
    "1. Finds what is the heap that contains the card\n",
    "1. Makes randomly two groups of `n_heaps//2` heaps of the remaining heaps\n",
    "   - if `n_heaps=3` this will be two groups of one heap each, since `3//2=1`\n",
    "   - if `n_heaps=5`, it will be two groups of two heaps each, since `5//2=2`\n",
    "   - etc. (observe `//` is the integer division)\n",
    "1. Concatenates the cards in one group with the cards in the heap containing the given card name. with the cards of the second group\n",
    "\n",
    "For example\n",
    "\n",
    "    >>> n_heaps = 3\n",
    "    >>> c = create_deck(n_heaps=n_heaps, cards_per_heap=7, shuffle=True)\n",
    "    >>> n = pick_card(c)\n",
    "    >>> print (\"card picked\", n)\n",
    "    >>> h = make_heaps(c, n_heaps)\n",
    "    >>> h\n",
    "    \n",
    "    card picked AD\n",
    "    [['AP', 'AC', 'AE', 'AO', 'AQ', 'AF', 'AM'],\n",
    "     ['AN', 'AT', 'AB', 'AJ', 'AU', 'AI', 'AS'],\n",
    "     ['AR', 'AD', 'AA', 'AG', 'AH', 'AL', 'AK']]\n",
    "    \n",
    "    \n",
    "    >>> new_c = collect_heaps(h, n)\n",
    "    >>> print (new_c)\n",
    "    \n",
    "    ['AP', 'AC', 'AE', 'AO', 'AQ', 'AF', 'AM', 'AR', 'AD', 'AA', 'AG', 'AH', 'AL', 'AK', 'AN', 'AT', 'AB', 'AJ', 'AU', 'AI', 'AS']"
   ]
  },
  {
   "cell_type": "code",
   "execution_count": 637,
   "metadata": {},
   "outputs": [],
   "source": [
    "def collect_heaps(h, n):\n",
    "    \n",
    "    r = ... # YOUR CODE HERE\n",
    "    \n",
    "    return r            "
   ]
  },
  {
   "cell_type": "markdown",
   "metadata": {},
   "source": [
    "manually check your code"
   ]
  },
  {
   "cell_type": "code",
   "execution_count": 16,
   "metadata": {},
   "outputs": [],
   "source": [
    "n_heaps = 3\n",
    "c = create_deck(n_heaps=n_heaps, cards_per_heap=7, shuffle=True)\n",
    "n = pick_card(c)\n",
    "print (\"card picked\", n)\n",
    "h = make_heaps(c, n_heaps)\n",
    "h"
   ]
  },
  {
   "cell_type": "code",
   "execution_count": 17,
   "metadata": {},
   "outputs": [],
   "source": [
    "new_c = collect_heaps(h, n)\n",
    "print (new_c)"
   ]
  },
  {
   "cell_type": "markdown",
   "metadata": {},
   "source": [
    "**submit your code**"
   ]
  },
  {
   "cell_type": "code",
   "execution_count": 57,
   "metadata": {
    "scrolled": false
   },
   "outputs": [],
   "source": [
    "student.submit_task(globals(), task_id=\"task_02\");"
   ]
  },
  {
   "cell_type": "code",
   "execution_count": null,
   "metadata": {},
   "outputs": [],
   "source": []
  },
  {
   "cell_type": "code",
   "execution_count": null,
   "metadata": {},
   "outputs": [],
   "source": []
  },
  {
   "cell_type": "markdown",
   "metadata": {},
   "source": [
    "## Task 3: Run the card trick\n",
    "\n",
    "Complete the following function such that, when given a a deck of cards `c`, and picked card `n` and a number of heaps `n_heaps`, returns the position of the picked card after doing three times the collect. The position number **must start at zero**.\n",
    "\n",
    "For instance:\n",
    "\n",
    "- For `n_heaps=3` and `cards_per_heap=7`, the final position will always be 10 (which is 11 if you start counting at 1)\n",
    "- For `n_heaps=3` and `cards_per_heap=4`, the final position will be sometimes 5 and sometimes 6 depending on the position of the picked card on the initial deck.\n",
    "- For `n_heaps=5` and `cards_per_heap=3`, the final position will always be 7\n",
    "\n",
    "**You must return an `int`**"
   ]
  },
  {
   "cell_type": "code",
   "execution_count": 593,
   "metadata": {},
   "outputs": [],
   "source": [
    "def run(c, n, n_heaps=3):\n",
    "    r = ... # YOUR ANSWER HERE\n",
    "    return r"
   ]
  },
  {
   "cell_type": "markdown",
   "metadata": {},
   "source": [
    "manually check your code"
   ]
  },
  {
   "cell_type": "code",
   "execution_count": 661,
   "metadata": {},
   "outputs": [],
   "source": [
    "n_heaps = 3\n",
    "c = create_deck(n_heaps=n_heaps, cards_per_heap=7)\n",
    "picked = \"AA\"\n",
    "print (\"desk\", c)\n",
    "pos = run(c, picked, n_heaps=n_heaps)\n",
    "print (\"position of card %s is %d\"%(picked, pos))"
   ]
  },
  {
   "cell_type": "code",
   "execution_count": 665,
   "metadata": {},
   "outputs": [],
   "source": [
    "n_heaps = 3\n",
    "c = create_deck(n_heaps=n_heaps, cards_per_heap=4)\n",
    "picked = \"AI\"\n",
    "print (\"deck\", c)\n",
    "pos = run(c, picked, n_heaps=n_heaps)\n",
    "print (\"position of card %s is %d\"%(picked, pos))"
   ]
  },
  {
   "cell_type": "markdown",
   "metadata": {},
   "source": [
    "**submit your code**"
   ]
  },
  {
   "cell_type": "code",
   "execution_count": 115,
   "metadata": {
    "scrolled": false
   },
   "outputs": [],
   "source": [
    "student.submit_task(globals(), task_id=\"task_03\");"
   ]
  },
  {
   "cell_type": "code",
   "execution_count": null,
   "metadata": {},
   "outputs": [],
   "source": []
  },
  {
   "cell_type": "code",
   "execution_count": null,
   "metadata": {},
   "outputs": [],
   "source": []
  },
  {
   "cell_type": "code",
   "execution_count": null,
   "metadata": {},
   "outputs": [],
   "source": []
  },
  {
   "cell_type": "code",
   "execution_count": null,
   "metadata": {},
   "outputs": [],
   "source": []
  },
  {
   "cell_type": "markdown",
   "metadata": {},
   "source": [
    "## Task 4: Run the trick using the math\n",
    "\n",
    "Given:\n",
    "\n",
    "- $n_h$: A number of heaps\n",
    "- $c_h$: the number of cards per heap\n",
    "- $i$: the position of a card \n",
    "\n",
    "The new position of the card after one cycle of making and collecting the heaps will be:\n",
    "\n",
    "$$c_h(n_h\\div2)+i\\div n_h$$\n",
    "\n",
    "Complete the following function so that it has the same functionality of the previous task, but applying only this formula without using the simulation above. You **MUST NOT ADD** or remove lines from the function skeleton below, **ONLY** fill in the `...`\n",
    "\n",
    "You must get the same results as the previous task.\n",
    "\n",
    "**HINT**: Use `np.argwhere` to get the initial position of the card in the deck"
   ]
  },
  {
   "cell_type": "code",
   "execution_count": null,
   "metadata": {},
   "outputs": [],
   "source": [
    "def mrun(c, picked_card, n_heaps=3):\n",
    "    assert len(c)%n_heaps==0, \"the number of heaps must be a divisor of the deck length\"\n",
    "    \n",
    "    ch = len(c)//n_heaps # cards per heap\n",
    "    nh = n_heaps\n",
    "    \n",
    "    i = ... # initial position of the card on the deck c\n",
    "    p1 = ...  # the position of the card after the first round\n",
    "    p2 = ...  # the position of the card after the second round\n",
    "    p3 = ...  # the position of the card after the last round\n",
    "    \n",
    "    return p3"
   ]
  },
  {
   "cell_type": "code",
   "execution_count": null,
   "metadata": {},
   "outputs": [],
   "source": []
  },
  {
   "cell_type": "code",
   "execution_count": 150,
   "metadata": {},
   "outputs": [],
   "source": [
    "n_heaps = 3\n",
    "c = create_deck(n_heaps=n_heaps, cards_per_heap=4)\n",
    "picked = \"AI\"\n",
    "print (\"deck\", c)\n",
    "pos = mrun(c, picked, n_heaps=n_heaps)\n",
    "print (\"position of card %s is %d\"%(picked, pos))"
   ]
  },
  {
   "cell_type": "code",
   "execution_count": null,
   "metadata": {},
   "outputs": [],
   "source": []
  },
  {
   "cell_type": "markdown",
   "metadata": {},
   "source": [
    "**submit your code**"
   ]
  },
  {
   "cell_type": "code",
   "execution_count": 160,
   "metadata": {
    "scrolled": false
   },
   "outputs": [],
   "source": [
    "student.submit_task(globals(), task_id=\"task_04\");"
   ]
  },
  {
   "cell_type": "code",
   "execution_count": null,
   "metadata": {},
   "outputs": [],
   "source": []
  },
  {
   "cell_type": "code",
   "execution_count": null,
   "metadata": {},
   "outputs": [],
   "source": []
  },
  {
   "cell_type": "code",
   "execution_count": null,
   "metadata": {},
   "outputs": [],
   "source": []
  },
  {
   "cell_type": "markdown",
   "metadata": {},
   "source": [
    "## You are done. Now, some considerations\n",
    "\n",
    "### using the math is always faster!!!\n",
    "\n"
   ]
  },
  {
   "cell_type": "code",
   "execution_count": 161,
   "metadata": {},
   "outputs": [],
   "source": [
    "n_heaps = 3\n",
    "c = create_deck(n_heaps=n_heaps, cards_per_heap=4)\n",
    "picked = \"AI\"\n",
    "print (\"deck\", c)"
   ]
  },
  {
   "cell_type": "code",
   "execution_count": 162,
   "metadata": {},
   "outputs": [],
   "source": [
    "%timeit run(c, picked, n_heaps=n_heaps)"
   ]
  },
  {
   "cell_type": "code",
   "execution_count": 163,
   "metadata": {},
   "outputs": [],
   "source": [
    "%timeit mrun(c, picked, n_heaps=n_heaps)"
   ]
  },
  {
   "cell_type": "markdown",
   "metadata": {},
   "source": [
    "### you can check if the trick works for a specific configuration"
   ]
  },
  {
   "cell_type": "code",
   "execution_count": 166,
   "metadata": {},
   "outputs": [],
   "source": [
    "n_heaps = 3\n",
    "cards_per_heap = 7\n",
    "\n",
    "c = create_deck(n_heaps, cards_per_heap)\n",
    "\n",
    "r = [[n, mrun(c,n, n_heaps=n_heaps)] for n in c]\n",
    "print (\"deck\", c)\n",
    "pd.DataFrame(r, columns=[\"card picked\", \"final position\"])"
   ]
  },
  {
   "cell_type": "code",
   "execution_count": 167,
   "metadata": {},
   "outputs": [],
   "source": [
    "n_heaps = 3\n",
    "cards_per_heap = 4\n",
    "\n",
    "c = create_deck(n_heaps, cards_per_heap)\n",
    "\n",
    "r = [[n, mrun(c,n, n_heaps=n_heaps)] for n in c]\n",
    "print (\"deck\", c)\n",
    "pd.DataFrame(r, columns=[\"card picked\", \"final position\"])"
   ]
  },
  {
   "cell_type": "code",
   "execution_count": null,
   "metadata": {},
   "outputs": [],
   "source": []
  }
 ],
 "metadata": {
  "kernelspec": {
   "display_name": "p38",
   "language": "python",
   "name": "p38"
  },
  "language_info": {
   "codemirror_mode": {
    "name": "ipython",
    "version": 3
   },
   "file_extension": ".py",
   "mimetype": "text/x-python",
   "name": "python",
   "nbconvert_exporter": "python",
   "pygments_lexer": "ipython3",
   "version": "3.8.5"
  }
 },
 "nbformat": 4,
 "nbformat_minor": 4
}
