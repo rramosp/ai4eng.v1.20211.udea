{
 "cells": [
  {
   "cell_type": "markdown",
   "metadata": {},
   "source": [
    "# LAB 02.03 - Pandas"
   ]
  },
  {
   "cell_type": "code",
   "execution_count": 1,
   "metadata": {},
   "outputs": [],
   "source": [
    "!wget --no-cache -O init.py -q https://raw.githubusercontent.com/rramosp/ai4eng.v1.20211.udea/main/content/init.py\n",
    "import init; init.init(force_download=False); init.get_weblink()\n"
   ]
  },
  {
   "cell_type": "code",
   "execution_count": 2,
   "metadata": {},
   "outputs": [],
   "source": [
    "from local.lib.rlxmoocapi import submit, session\n",
    "student = session.Session(init.endpoint).login( course_id=init.course_id, \n",
    "                                                lab_id=\"L02.03\" )\n",
    "init.get_weblink()"
   ]
  },
  {
   "cell_type": "code",
   "execution_count": 6,
   "metadata": {},
   "outputs": [],
   "source": [
    "import numpy as np\n",
    "import pandas as pd"
   ]
  },
  {
   "cell_type": "markdown",
   "metadata": {},
   "source": [
    "## Task 1: Extract data\n",
    "\n",
    "we have a dataframe of items with a price and, **sometimes**, with an extra column (`margin`).\n",
    "\n",
    "You will have to complete a function that will **filter** the dataframe selecting the rows:\n",
    "\n",
    "- whose price is > 100\n",
    "- **OR** whose margin is >10, if the column `margin` is present\n",
    "\n",
    "your function must return **A LIST** with the item ids of the selected rows\n",
    "\n",
    "For instance, with the following dataframe\n",
    "\n",
    "             price  category\n",
    "    itemid                  \n",
    "    56556   108.15       2.0\n",
    "    73065    83.54       2.0\n",
    "    36619   114.42       0.0\n",
    "    73414    82.94       0.0\n",
    "    13410   115.13       2.0\n",
    "    66153    91.50       1.0\n",
    "    77380    85.82       0.0\n",
    "    73249    95.95       0.0\n",
    "    11654   100.22       2.0\n",
    "    11972    77.16       1.0\n",
    "\n",
    "your must return the following list:\n",
    "\n",
    "     [56556, 36619, 13410, 11654]\n",
    "     \n",
    "But if you get the following dataframe\n",
    "\n",
    "             price  category  margin\n",
    "    itemid                          \n",
    "    39059    98.11       0.0   11.04\n",
    "    19526    98.11       1.0   11.25\n",
    "    78176    94.34       1.0   10.51\n",
    "    50948   102.37       1.0   10.77\n",
    "    12111    98.07       1.0    8.50\n",
    "    56191    98.53       1.0   11.65\n",
    "    38887    91.49       2.0   11.24\n",
    "    77915   117.30       0.0    8.64\n",
    "    55010    96.13       0.0    8.95\n",
    "    45925    98.59       1.0   10.45\n",
    "    \n",
    "you must return the following list\n",
    "\n",
    "    [39059, 19526, 78176, 50948, 56191, 38887, 77915, 45925]"
   ]
  },
  {
   "cell_type": "code",
   "execution_count": 4,
   "metadata": {},
   "outputs": [],
   "source": [
    "def create_df(missing=False, n=10):\n",
    "    itemid   = np.random.randint(100000, size=n)+1000\n",
    "    category = np.random.randint(3, size=n)\n",
    "    price    = np.round(np.random.normal(loc=100, scale=10, size=n),2)\n",
    "    margin   = np.round(np.random.normal(loc=10, scale=1, size=n),2)\n",
    "    \n",
    "    if missing:\n",
    "        nmissing = np.random.randint(len(price)//2)+2                                     \n",
    "        price[np.random.permutation(len(price))[:nmissing]] = np.nan\n",
    "    \n",
    "    d = pd.DataFrame(np.r_[[price, category, margin]].T, index=itemid, columns=[\"price\", \"category\", \"margin\"])\n",
    "    d.index.name=\"itemid\"\n",
    "    if np.random.random()>.5:\n",
    "        d = d[d.columns[:2]]\n",
    "        \n",
    "    return d"
   ]
  },
  {
   "cell_type": "code",
   "execution_count": 9,
   "metadata": {},
   "outputs": [],
   "source": [
    "d = create_df()\n",
    "d"
   ]
  },
  {
   "cell_type": "code",
   "execution_count": 10,
   "metadata": {},
   "outputs": [],
   "source": [
    "def select_items(df):\n",
    "    \n",
    "    ... # YOUR CODE HERE\n",
    "    \n",
    "    result = ...\n",
    "    \n",
    "    return result"
   ]
  },
  {
   "cell_type": "markdown",
   "metadata": {},
   "source": [
    "**manually check your answer**"
   ]
  },
  {
   "cell_type": "code",
   "execution_count": 48,
   "metadata": {},
   "outputs": [],
   "source": [
    "d = create_df()\n",
    "d"
   ]
  },
  {
   "cell_type": "code",
   "execution_count": 49,
   "metadata": {},
   "outputs": [],
   "source": [
    "select_items(d)"
   ]
  },
  {
   "cell_type": "markdown",
   "metadata": {},
   "source": [
    "**submit your code**"
   ]
  },
  {
   "cell_type": "code",
   "execution_count": 12,
   "metadata": {
    "scrolled": false
   },
   "outputs": [],
   "source": [
    "student.submit_task(globals(), task_id=\"task_01\");"
   ]
  },
  {
   "cell_type": "code",
   "execution_count": null,
   "metadata": {},
   "outputs": [],
   "source": []
  },
  {
   "cell_type": "code",
   "execution_count": null,
   "metadata": {},
   "outputs": [],
   "source": []
  },
  {
   "cell_type": "markdown",
   "metadata": {},
   "source": [
    "## Task 2: Group statistics\n",
    "\n",
    "Complete the following function so that it returns a dataframe with the average, max and min **prices** per category. \n",
    "\n",
    "For instance, for the following dataframe\n",
    "\n",
    "             price  category  margin\n",
    "    itemid                          \n",
    "    17946    93.85       1.0   10.64\n",
    "    61190    91.72       1.0    9.76\n",
    "    39639   100.16       1.0   10.67\n",
    "    17791   110.44       2.0    9.65\n",
    "    7333    101.05       1.0    9.69\n",
    "    77362   122.33       0.0   11.14\n",
    "    92646   108.13       2.0   10.58\n",
    "    27797    85.52       2.0   10.88\n",
    "    31746    97.56       0.0    9.75\n",
    "    12355   101.04       2.0    9.51\n",
    "    \n",
    "you should return the following dataframe\n",
    "\n",
    "                 media  maximo  minimo\n",
    "    categoria                         \n",
    "    0         109.9450  122.33  97.56\n",
    "    1          96.6950  101.05  91.72\n",
    "    2         101.2825  110.44  85.52\n",
    "    \n",
    "observe that your result\n",
    "- must not be a **multilevel** columnset.\n",
    "- the column names and the index name must be **exactly** as in the example.\n",
    "- the **index** must be of type **int**."
   ]
  },
  {
   "cell_type": "code",
   "execution_count": 61,
   "metadata": {},
   "outputs": [],
   "source": [
    "def get_stats(df):\n",
    "    \n",
    "    ... # YOUR CODE HERE    \n",
    "    result = ...\n",
    "    return result"
   ]
  },
  {
   "cell_type": "markdown",
   "metadata": {},
   "source": [
    "**manually check your answer**"
   ]
  },
  {
   "cell_type": "code",
   "execution_count": null,
   "metadata": {},
   "outputs": [],
   "source": [
    "d = create_df()\n",
    "d"
   ]
  },
  {
   "cell_type": "code",
   "execution_count": 15,
   "metadata": {},
   "outputs": [],
   "source": [
    "get_stats(d)"
   ]
  },
  {
   "cell_type": "code",
   "execution_count": null,
   "metadata": {},
   "outputs": [],
   "source": []
  },
  {
   "cell_type": "markdown",
   "metadata": {},
   "source": [
    "**submit your code**"
   ]
  },
  {
   "cell_type": "code",
   "execution_count": 16,
   "metadata": {
    "scrolled": true
   },
   "outputs": [],
   "source": [
    "student.submit_task(globals(), task_id=\"task_02\");"
   ]
  },
  {
   "cell_type": "code",
   "execution_count": null,
   "metadata": {},
   "outputs": [],
   "source": []
  },
  {
   "cell_type": "code",
   "execution_count": null,
   "metadata": {},
   "outputs": [],
   "source": []
  },
  {
   "cell_type": "markdown",
   "metadata": {},
   "source": [
    "## Task 3: Fill in missing data\n",
    "\n",
    "Fill in the missing data in the **price** column with the following procedure:\n",
    "\n",
    "- compute the mean and std of the avaialable prices\n",
    "- sample from a normal distribution with the computed mean and std (see [`np.random.normal`])(https://numpy.org/doc/stable/reference/random/generated/numpy.random.normal.html), as many samples as missing data\n",
    "- substitute the missing values with the samples\n",
    "\n",
    "For instance, for this input dataframe:\n",
    "\n",
    "             price  category  margin\n",
    "    itemid                          \n",
    "    18922      NaN       1.0   10.32\n",
    "    69500   121.25       1.0   10.22\n",
    "    76442    90.25       1.0   12.60\n",
    "    33863   106.51       0.0   10.26\n",
    "    15904    95.87       1.0   11.51\n",
    "    41946   103.47       2.0    9.85\n",
    "    85451    93.08       2.0    9.56\n",
    "    70028   116.68       1.0    9.11\n",
    "    26860      NaN       2.0    9.71\n",
    "    12807    91.48       0.0    9.77\n",
    "    \n",
    "your solution might be similar to this (not exactly the same as you will be sampling data):\n",
    "\n",
    "\n",
    "                 price  category  margin\n",
    "    itemid                              \n",
    "    18922    97.441188       1.0   10.32\n",
    "    69500   121.250000       1.0   10.22\n",
    "    76442    90.250000       1.0   12.60\n",
    "    33863   106.510000       0.0   10.26\n",
    "    15904    95.870000       1.0   11.51\n",
    "    41946   103.470000       2.0    9.85\n",
    "    85451    93.080000       2.0    9.56\n",
    "    70028   116.680000       1.0    9.11\n",
    "    26860   103.294843       2.0    9.71\n",
    "    12807    91.480000       0.0    9.77\n",
    "    \n",
    "    \n",
    "**WARN**: your function must not modify the original dataframe, make a copy of the input dataframe, fill the values in the copy and return it.\n",
    "\n",
    "**HINT**: use the [`isna()`](https://pandas.pydata.org/pandas-docs/stable/reference/api/pandas.DataFrame.isna.html) method of a dataframe or a series."
   ]
  },
  {
   "cell_type": "code",
   "execution_count": 7,
   "metadata": {},
   "outputs": [],
   "source": [
    "d = create_df(missing=True)\n",
    "d"
   ]
  },
  {
   "cell_type": "code",
   "execution_count": 141,
   "metadata": {},
   "outputs": [],
   "source": [
    "def fillna(df):\n",
    "    ... # YOUR CODE HERE    \n",
    "    result = ...\n",
    "    return result"
   ]
  },
  {
   "cell_type": "markdown",
   "metadata": {},
   "source": [
    "**check manually your code**"
   ]
  },
  {
   "cell_type": "code",
   "execution_count": 8,
   "metadata": {},
   "outputs": [],
   "source": [
    "d = create_df(missing=True)\n",
    "d"
   ]
  },
  {
   "cell_type": "code",
   "execution_count": 11,
   "metadata": {},
   "outputs": [],
   "source": [
    "fillna(d)"
   ]
  },
  {
   "cell_type": "code",
   "execution_count": null,
   "metadata": {},
   "outputs": [],
   "source": []
  },
  {
   "cell_type": "code",
   "execution_count": null,
   "metadata": {},
   "outputs": [],
   "source": []
  },
  {
   "cell_type": "markdown",
   "metadata": {},
   "source": [
    "**submit your code**"
   ]
  },
  {
   "cell_type": "code",
   "execution_count": 24,
   "metadata": {
    "scrolled": true
   },
   "outputs": [],
   "source": [
    "student.submit_task(globals(), task_id=\"task_03\");"
   ]
  },
  {
   "cell_type": "code",
   "execution_count": null,
   "metadata": {},
   "outputs": [],
   "source": []
  },
  {
   "cell_type": "code",
   "execution_count": null,
   "metadata": {},
   "outputs": [],
   "source": []
  },
  {
   "cell_type": "code",
   "execution_count": null,
   "metadata": {},
   "outputs": [],
   "source": []
  }
 ],
 "metadata": {
  "kernelspec": {
   "display_name": "Python 3",
   "language": "python",
   "name": "python3"
  },
  "language_info": {
   "codemirror_mode": {
    "name": "ipython",
    "version": 3
   },
   "file_extension": ".py",
   "mimetype": "text/x-python",
   "name": "python",
   "nbconvert_exporter": "python",
   "pygments_lexer": "ipython3",
   "version": "3.7.3"
  }
 },
 "nbformat": 4,
 "nbformat_minor": 2
}
