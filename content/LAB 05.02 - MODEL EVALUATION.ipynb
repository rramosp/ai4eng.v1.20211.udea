{
 "cells": [
  {
   "cell_type": "markdown",
   "metadata": {},
   "source": [
    "# LAB 05.02 - Model evaluation"
   ]
  },
  {
   "cell_type": "code",
   "execution_count": 1,
   "metadata": {},
   "outputs": [],
   "source": [
    "!wget --no-cache -O init.py -q https://raw.githubusercontent.com/rramosp/ai4eng.v1.20211.udea/main/content/init.py\n",
    "import init; init.init(force_download=False); init.get_weblink()\n"
   ]
  },
  {
   "cell_type": "code",
   "execution_count": 25,
   "metadata": {},
   "outputs": [],
   "source": [
    "from local.lib.rlxmoocapi import submit, session\n",
    "student = session.Session(init.endpoint).login( course_id=init.course_id, \n",
    "                                                lab_id=\"L05.02\" )"
   ]
  },
  {
   "cell_type": "markdown",
   "metadata": {},
   "source": [
    "## Task 1: Partition randomly `numpy` arrays\n",
    "\n",
    "observe we can select specific rows and/or columns on a numpy array"
   ]
  },
  {
   "cell_type": "code",
   "execution_count": 2,
   "metadata": {},
   "outputs": [],
   "source": [
    "import numpy as np\n",
    "\n",
    "x = np.random.randint(100, size=(20,5))\n",
    "x[:,0] = range(len(x))\n",
    "x[0,:] = range(x.shape[1])\n",
    "x"
   ]
  },
  {
   "cell_type": "code",
   "execution_count": 3,
   "metadata": {},
   "outputs": [],
   "source": [
    "ridxs = np.r_[2,4,5]\n",
    "x[ridxs]"
   ]
  },
  {
   "cell_type": "code",
   "execution_count": 4,
   "metadata": {},
   "outputs": [],
   "source": [
    "cidxs = np.r_[1,3]\n",
    "x[:,cidxs]"
   ]
  },
  {
   "cell_type": "code",
   "execution_count": 5,
   "metadata": {},
   "outputs": [],
   "source": [
    "x[ridxs][:, cidxs]"
   ]
  },
  {
   "cell_type": "markdown",
   "metadata": {},
   "source": [
    "and the dimensions of the array are accessible through `len` and `shape`"
   ]
  },
  {
   "cell_type": "code",
   "execution_count": 6,
   "metadata": {},
   "outputs": [],
   "source": [
    "len(x), x.shape"
   ]
  },
  {
   "cell_type": "markdown",
   "metadata": {},
   "source": [
    "observe also how we can partition it"
   ]
  },
  {
   "cell_type": "code",
   "execution_count": 7,
   "metadata": {},
   "outputs": [],
   "source": [
    "x[:3]"
   ]
  },
  {
   "cell_type": "code",
   "execution_count": 8,
   "metadata": {},
   "outputs": [],
   "source": [
    "x[3:]"
   ]
  },
  {
   "cell_type": "markdown",
   "metadata": {},
   "source": [
    "we can do the same thing with vectors"
   ]
  },
  {
   "cell_type": "code",
   "execution_count": 9,
   "metadata": {},
   "outputs": [],
   "source": [
    "v = np.arange(100,120)\n",
    "v"
   ]
  },
  {
   "cell_type": "code",
   "execution_count": 10,
   "metadata": {},
   "outputs": [],
   "source": [
    "v[:5], v[5:]"
   ]
  },
  {
   "cell_type": "markdown",
   "metadata": {},
   "source": [
    "finally, observe how we can create a random permutation of a specific vector"
   ]
  },
  {
   "cell_type": "code",
   "execution_count": 11,
   "metadata": {},
   "outputs": [],
   "source": [
    "np.random.permutation(v)"
   ]
  },
  {
   "cell_type": "markdown",
   "metadata": {},
   "source": [
    "or the first natural numbers"
   ]
  },
  {
   "cell_type": "code",
   "execution_count": 12,
   "metadata": {},
   "outputs": [],
   "source": [
    "p = np.random.permutation(20)\n",
    "p"
   ]
  },
  {
   "cell_type": "markdown",
   "metadata": {},
   "source": [
    "how do you interpret this?"
   ]
  },
  {
   "cell_type": "code",
   "execution_count": 13,
   "metadata": {},
   "outputs": [],
   "source": [
    "v[p[5:]]"
   ]
  },
  {
   "cell_type": "code",
   "execution_count": 14,
   "metadata": {},
   "outputs": [],
   "source": [
    "x[p[:5]]"
   ]
  },
  {
   "cell_type": "code",
   "execution_count": null,
   "metadata": {},
   "outputs": [],
   "source": []
  },
  {
   "cell_type": "code",
   "execution_count": null,
   "metadata": {},
   "outputs": [],
   "source": []
  },
  {
   "cell_type": "markdown",
   "metadata": {},
   "source": [
    "### assignment\n",
    "\n",
    "in this task you will have to complete the function  `split_data` below so that:\n",
    "\n",
    "- it accepts two arguments `X` and `y`, either of which can be any numpy array (1D, 2D, etc.) of the **same** size $n$ (observe the  `assert` statement), and a `pct` \n",
    "- creates a random permutation of the natural number from $0$ to $n-1$\n",
    "- partitions the permutations so that the first partition contains the first `n1_elements` $=$ `int(n * pct)` numbers, and the second partition the rest\n",
    "- interpret the permutation partitions components as indexes to `X` and `y` so that they are partitioned into `X1`, `X2` and `y1`, `y2` respectively\n",
    "\n",
    "note that **indexes to array** must be of type `int`. do the following to convert a float to int"
   ]
  },
  {
   "cell_type": "code",
   "execution_count": 15,
   "metadata": {},
   "outputs": [],
   "source": [
    "a,b = 10,.3\n",
    "c = a*b\n",
    "print (c)\n",
    "c = int(c)\n",
    "print(c)"
   ]
  },
  {
   "cell_type": "code",
   "execution_count": 16,
   "metadata": {},
   "outputs": [],
   "source": [
    "def split_data(X, y, pct):\n",
    "    \n",
    "    assert len(X)==len(y), \"X and y must have the same length\"\n",
    "    assert pct>0 and pct<1, \"pct must be in the (0,1) iterval\"\n",
    "    \n",
    "    permutation = \n",
    "    n1_elements = \n",
    "    permutation_partition_1 =\n",
    "    permutation_partition_2 = \n",
    "    X1 = \n",
    "    X2 = \n",
    "    y1 = \n",
    "    y2 = \n",
    "    return X1, X2, y1, y2"
   ]
  },
  {
   "cell_type": "markdown",
   "metadata": {},
   "source": [
    "check your solution manually with the following code"
   ]
  },
  {
   "cell_type": "code",
   "execution_count": 17,
   "metadata": {},
   "outputs": [],
   "source": [
    "XX = np.random.randint(100, size=(20,8))\n",
    "yy = np.arange(100,100+len(XX))\n",
    "XX[:,0] = range(len(XX))\n",
    "XX[0,:] = range(XX.shape[1])\n",
    "print (XX)\n",
    "print (yy)"
   ]
  },
  {
   "cell_type": "code",
   "execution_count": 18,
   "metadata": {},
   "outputs": [],
   "source": [
    "Xtr, Xts, ytr, yts = split_data(XX, yy, pct=.7)"
   ]
  },
  {
   "cell_type": "code",
   "execution_count": 19,
   "metadata": {},
   "outputs": [],
   "source": [
    "# check partition ok\n",
    "np.sum(XX), np.sum(Xtr) + np.sum(Xts), np.sum(yy), np.sum(ytr)+np.sum(yts)"
   ]
  },
  {
   "cell_type": "code",
   "execution_count": 20,
   "metadata": {},
   "outputs": [],
   "source": [
    "print (Xtr, \"\\n--\")\n",
    "print (Xts, \"\\n--\")\n",
    "print (ytr, \"\\n--\")\n",
    "print (yts, \"\\n--\")"
   ]
  },
  {
   "cell_type": "code",
   "execution_count": 21,
   "metadata": {},
   "outputs": [],
   "source": [
    "Xts"
   ]
  },
  {
   "cell_type": "code",
   "execution_count": null,
   "metadata": {},
   "outputs": [],
   "source": []
  },
  {
   "cell_type": "markdown",
   "metadata": {},
   "source": [
    "**submit your code**"
   ]
  },
  {
   "cell_type": "code",
   "execution_count": 33,
   "metadata": {
    "scrolled": true
   },
   "outputs": [],
   "source": [
    "student.submit_task(globals(), task_id=\"task_01\");\n"
   ]
  },
  {
   "cell_type": "code",
   "execution_count": null,
   "metadata": {},
   "outputs": [],
   "source": []
  },
  {
   "cell_type": "markdown",
   "metadata": {},
   "source": [
    "## Task 2: Fit a model and make predictions"
   ]
  },
  {
   "cell_type": "markdown",
   "metadata": {},
   "source": [
    "observe how we create new data from synthetic datasets available in `sklearn`"
   ]
  },
  {
   "cell_type": "code",
   "execution_count": 34,
   "metadata": {},
   "outputs": [],
   "source": [
    "from sklearn.datasets import make_moons\n",
    "import matplotlib.pyplot as plt\n",
    "from local.lib import mlutils\n",
    "%matplotlib inline"
   ]
  },
  {
   "cell_type": "code",
   "execution_count": 35,
   "metadata": {},
   "outputs": [],
   "source": [
    "X, y = make_moons(200, noise=0.2)\n",
    "X.shape, y.shape"
   ]
  },
  {
   "cell_type": "code",
   "execution_count": 36,
   "metadata": {},
   "outputs": [],
   "source": [
    "mlutils.plot_2Ddata(X,y); plt.grid();"
   ]
  },
  {
   "cell_type": "markdown",
   "metadata": {},
   "source": [
    "observe also how we create an algorithm instance and fit a model"
   ]
  },
  {
   "cell_type": "code",
   "execution_count": 37,
   "metadata": {},
   "outputs": [],
   "source": [
    "from sklearn.svm import SVC\n",
    "estimator = SVC(gamma=1)\n",
    "estimator.fit(X,y)\n",
    "mlutils.plot_2Ddata_with_boundary(estimator.predict, X, y)"
   ]
  },
  {
   "cell_type": "markdown",
   "metadata": {},
   "source": [
    "and how we make predictions"
   ]
  },
  {
   "cell_type": "code",
   "execution_count": 38,
   "metadata": {},
   "outputs": [],
   "source": [
    "preds = estimator.predict(X)\n",
    "print (preds.shape)\n",
    "preds"
   ]
  },
  {
   "cell_type": "markdown",
   "metadata": {},
   "source": [
    "in this task you have to complete the following function so that:\n",
    "\n",
    "- it makes two non-random partitions of `X` and `y`. One containing the first half of the data and one containing the second part. If the number of elements of `X` is odd, then the second half will contain one more element than the first half.\n",
    "- it fits the model with the first part of the data\n",
    "- it makes predictions on the second half of the data\n",
    "- returns the estimator fitted, and the predictions on the second half of the data."
   ]
  },
  {
   "cell_type": "code",
   "execution_count": 39,
   "metadata": {},
   "outputs": [],
   "source": [
    "def fit_and_predict(estimator, X, y):\n",
    "    assert len(X)==len(y), \"X and y must have the same length\"\n",
    "    \n",
    "    predictions = ...\n",
    "    \n",
    "    return estimator, predictions"
   ]
  },
  {
   "cell_type": "markdown",
   "metadata": {},
   "source": [
    "check your code. your predictions should be similar to\n",
    "\n",
    "    preds\n",
    "    >> array([0, 0, 0, 0, 1, 0, 1, 1, 1, 0])"
   ]
  },
  {
   "cell_type": "code",
   "execution_count": 40,
   "metadata": {},
   "outputs": [],
   "source": [
    "X = np.array([[ 0.74799424, -0.5867667 ],\n",
    "       [-0.64457753,  1.25127894],\n",
    "       [ 0.53682593,  0.10931563],\n",
    "       [-0.88825294, -0.06987509],\n",
    "       [ 0.99612638, -0.52295157],\n",
    "       [ 1.20586692,  0.01930477],\n",
    "       [-0.19368482,  0.65121567],\n",
    "       [ 0.1973759 ,  0.82250723],\n",
    "       [ 0.94859234, -0.5457241 ],\n",
    "       [ 1.87967948, -0.22740261],\n",
    "       [ 0.58766146,  0.3982837 ],\n",
    "       [ 0.27731571,  1.14369568],\n",
    "       [-0.67421956,  0.12785382],\n",
    "       [ 0.56957459,  1.05330376],\n",
    "       [ 1.52435938, -0.29864338],\n",
    "       [-0.15973608,  0.21790711],\n",
    "       [ 1.59037406, -0.56875485],\n",
    "       [ 0.43257507, -0.48900315],\n",
    "       [ 1.09440413, -0.73789029],\n",
    "       [-0.32940869,  0.74671384]])\n",
    "y = np.array([1, 0, 1, 0, 1, 0, 0, 0, 1, 1, 0, 0, 0, 0, 1, 1, 1, 1, 1, 0])\n",
    "X.shape, y.shape"
   ]
  },
  {
   "cell_type": "code",
   "execution_count": 41,
   "metadata": {},
   "outputs": [],
   "source": [
    "from sklearn.linear_model import LogisticRegression\n",
    "estimator = LogisticRegression()\n",
    "estimator, preds = fit_and_predict(estimator, X, y)\n",
    "preds"
   ]
  },
  {
   "cell_type": "code",
   "execution_count": null,
   "metadata": {},
   "outputs": [],
   "source": [
    "\n"
   ]
  },
  {
   "cell_type": "markdown",
   "metadata": {},
   "source": [
    "**submit your code**"
   ]
  },
  {
   "cell_type": "code",
   "execution_count": 46,
   "metadata": {},
   "outputs": [],
   "source": [
    "student.submit_task(globals(), task_id=\"task_02\");\n"
   ]
  },
  {
   "cell_type": "code",
   "execution_count": null,
   "metadata": {},
   "outputs": [],
   "source": []
  },
  {
   "cell_type": "markdown",
   "metadata": {},
   "source": [
    "## Task 3: Select data with indices\n",
    "\n",
    "Observe how we can create a vector or matrix of `True/False` (boolean) by applying a condition to any matrix or vector"
   ]
  },
  {
   "cell_type": "code",
   "execution_count": 47,
   "metadata": {},
   "outputs": [],
   "source": [
    "import numpy as np\n",
    "y = np.random.randint(10, size=15)\n",
    "print (y)"
   ]
  },
  {
   "cell_type": "code",
   "execution_count": 48,
   "metadata": {},
   "outputs": [],
   "source": [
    "y_less_than_5 = y<5\n",
    "print (y_less_than_5)"
   ]
  },
  {
   "cell_type": "markdown",
   "metadata": {},
   "source": [
    "and how we can select elements of a vector using a boolean vector of the same length"
   ]
  },
  {
   "cell_type": "code",
   "execution_count": 49,
   "metadata": {},
   "outputs": [],
   "source": [
    "y[y_less_than_5]"
   ]
  },
  {
   "cell_type": "code",
   "execution_count": 50,
   "metadata": {},
   "outputs": [],
   "source": [
    "y[y<5]"
   ]
  },
  {
   "cell_type": "markdown",
   "metadata": {},
   "source": [
    "python doesn't really care how you construct the vector of booleans to index any other vector or array"
   ]
  },
  {
   "cell_type": "code",
   "execution_count": 51,
   "metadata": {},
   "outputs": [],
   "source": [
    "v = np.random.randint(20, size=15)\n",
    "v"
   ]
  },
  {
   "cell_type": "code",
   "execution_count": 52,
   "metadata": {},
   "outputs": [],
   "source": [
    "v[y<5]"
   ]
  },
  {
   "cell_type": "markdown",
   "metadata": {},
   "source": [
    "in this task you will complete the function `select_per_class` such that:\n",
    "\n",
    "- receives an array of data `X` and a vector of labels `y`, of the same length\n",
    "- the labels `y` are binary, they can only have values `0` or `1`\n",
    "- makes two partitions of `X`, one corresponding to the places where y is 0, and another where y is 1\n",
    "- returns the two partitions\n",
    "\n",
    "For instance, for the following X and y\n",
    "\n",
    "    X = np.array([[8, 8, 5, 2, 0, 0],\n",
    "                  [4, 4, 8, 1, 3, 7],\n",
    "                  [4, 5, 3, 6, 9, 6],\n",
    "                  [0, 3, 5, 3, 5, 3],\n",
    "                  [0, 7, 2, 7, 1, 7],\n",
    "                  [5, 7, 7, 1, 8, 5],\n",
    "                  [2, 5, 7, 3, 8, 0],\n",
    "                  [7, 2, 5, 9, 8, 7],\n",
    "                  [1, 6, 6, 1, 6, 0],\n",
    "                  [0, 7, 6, 5, 3, 4]])\n",
    "\n",
    "    y = np.array([0, 0, 0, 0, 1, 1, 0, 0, 1, 1])\n",
    "\n",
    "your function must return the following two matrices:\n",
    "\n",
    "    [[8 8 5 2 0 0]\n",
    "     [4 4 8 1 3 7]\n",
    "     [4 5 3 6 9 6]\n",
    "     [0 3 5 3 5 3]\n",
    "     [2 5 7 3 8 0]\n",
    "     [7 2 5 9 8 7]]\n",
    "     \n",
    "    [[0 7 2 7 1 7]\n",
    "     [5 7 7 1 8 5]\n",
    "     [1 6 6 1 6 0]\n",
    "     [0 7 6 5 3 4]]\n"
   ]
  },
  {
   "cell_type": "code",
   "execution_count": 53,
   "metadata": {},
   "outputs": [],
   "source": [
    "def select_per_class(X, y):\n",
    "    X1 = \n",
    "    X2 = \n",
    "    return X1, X2"
   ]
  },
  {
   "cell_type": "markdown",
   "metadata": {},
   "source": [
    "check manually your code"
   ]
  },
  {
   "cell_type": "code",
   "execution_count": null,
   "metadata": {},
   "outputs": [],
   "source": [
    "X = np.array([[8, 8, 5, 2, 0, 0],\n",
    "              [4, 4, 8, 1, 3, 7],\n",
    "              [4, 5, 3, 6, 9, 6],\n",
    "              [0, 3, 5, 3, 5, 3],\n",
    "              [0, 7, 2, 7, 1, 7],\n",
    "              [5, 7, 7, 1, 8, 5],\n",
    "              [2, 5, 7, 3, 8, 0],\n",
    "              [7, 2, 5, 9, 8, 7],\n",
    "              [1, 6, 6, 1, 6, 0],\n",
    "              [0, 7, 6, 5, 3, 4]])\n",
    "\n",
    "y = np.array([0, 0, 0, 0, 1, 1, 0, 0, 1, 1])"
   ]
  },
  {
   "cell_type": "code",
   "execution_count": 54,
   "metadata": {},
   "outputs": [],
   "source": [
    "a,b = select_per_class(X, y)\n",
    "print (a)\n",
    "print (b)"
   ]
  },
  {
   "cell_type": "code",
   "execution_count": null,
   "metadata": {},
   "outputs": [],
   "source": []
  },
  {
   "cell_type": "markdown",
   "metadata": {},
   "source": [
    "**submit your code**"
   ]
  },
  {
   "cell_type": "code",
   "execution_count": 59,
   "metadata": {
    "scrolled": true
   },
   "outputs": [],
   "source": [
    "student.submit_task(globals(), task_id=\"task_03\");\n"
   ]
  },
  {
   "cell_type": "code",
   "execution_count": null,
   "metadata": {},
   "outputs": [],
   "source": []
  },
  {
   "cell_type": "markdown",
   "metadata": {},
   "source": [
    "## Task 4: Measure accuracy\n",
    "\n",
    "complete the following function such that:\n",
    "\n",
    "- it receives to binary vectors (composed of 0's and 1's) of the same length\n",
    "- returns the percentage of elements that are the same in both vectors\n",
    "\n",
    "recall that\n",
    "\n",
    "- if `a` and `b` are vectors of the same length a==b   returns a vector of booleans in which positions in True signal that elements in those position are the same\n",
    "- if `k` is a vector of booleans, `sum(k)` returns the number of `True` elements.\n",
    "\n",
    "\n",
    "for the following two vectors you should get 0.375\n",
    "\n",
    "    a = np.array([1,0,0,0,1,1,0,0])\n",
    "    b = np.array([1,1,1,1,0,1,0,1])\n",
    "    accuracy(a, b)\n",
    "    >>> 0.375\n"
   ]
  },
  {
   "cell_type": "code",
   "execution_count": 60,
   "metadata": {},
   "outputs": [],
   "source": [
    "def accuracy(y_true, y_pred):\n",
    "    result = \n",
    "    return result"
   ]
  },
  {
   "cell_type": "code",
   "execution_count": 61,
   "metadata": {},
   "outputs": [],
   "source": [
    "a = np.array([1,0,0,0,1,1,0,0])\n",
    "b = np.array([1,1,1,1,0,1,0,1])\n",
    "accuracy(a,b)"
   ]
  },
  {
   "cell_type": "code",
   "execution_count": null,
   "metadata": {},
   "outputs": [],
   "source": []
  },
  {
   "cell_type": "code",
   "execution_count": null,
   "metadata": {},
   "outputs": [],
   "source": []
  },
  {
   "cell_type": "markdown",
   "metadata": {},
   "source": [
    "**submit your code**"
   ]
  },
  {
   "cell_type": "code",
   "execution_count": 66,
   "metadata": {
    "scrolled": false
   },
   "outputs": [],
   "source": [
    "student.submit_task(globals(), task_id=\"task_04\");\n"
   ]
  },
  {
   "cell_type": "code",
   "execution_count": null,
   "metadata": {},
   "outputs": [],
   "source": []
  },
  {
   "cell_type": "markdown",
   "metadata": {},
   "source": [
    "## Task 5: Random split, fit and predict\n",
    "\n",
    "complete the following function so that:\n",
    "\n",
    "- fits the estimator with a random sample of size `train_pct` of the data `X` and binary labels `y`. You can use the `split_data` function developed previously\n",
    "- makes predictions on the test part of the data\n",
    "- measures accuracy of those predictions. you may use the function created previously\n",
    "- returns the estimator fitted, the test part of `X` and `y`, and the accuracy measured\n",
    "\n",
    "\n",
    "the execution below should return something with the following structure (the actual numbers will change)\n",
    "\n",
    "\n",
    "    (LogisticRegression(C=1.0, class_weight=None, dual=False, fit_intercept=True,\n",
    "                        intercept_scaling=1, l1_ratio=None, max_iter=100,\n",
    "                        multi_class='warn', n_jobs=None, penalty='l2',\n",
    "                        random_state=None, solver='lbfgs', tol=0.0001, verbose=0,\n",
    "                        warm_start=False), array([[-0.76329684,  0.2572069 ],\n",
    "            [ 1.02356829,  0.37629873],\n",
    "            [ 0.32099415,  0.82244488],\n",
    "            [ 1.08858315, -0.61299904],\n",
    "            [ 0.58470767,  0.58510559],\n",
    "            [ 1.60827644, -0.15477173],\n",
    "            [ 1.53121784,  0.78121504],\n",
    "            [-0.42734156,  0.87585237],\n",
    "            [-0.36368682,  0.72152586],\n",
    "            [ 1.05312619,  0.19835526]]), array([0, 0, 1, 1, 0, 1, 1, 0, 0, 0]), 0.6)"
   ]
  },
  {
   "cell_type": "code",
   "execution_count": null,
   "metadata": {},
   "outputs": [],
   "source": [
    "\n",
    "def split_fit_predict(estimator, X, y, train_pct):\n",
    "    \n",
    "    def split_data(X, y, pct):\n",
    "        # your code here\n",
    "    \n",
    "    def accuracy(y_true, y_pred):\n",
    "        # your code here\n",
    "\n",
    "    Xtr, Xts, ytr, yts = ...\n",
    "    ... fit the estimator ....\n",
    "    preds_ts = ... obtain predictions ... \n",
    "    return estimator, Xts, yts, accuracy(yts, preds_ts)\n",
    "        \n",
    "        "
   ]
  },
  {
   "cell_type": "code",
   "execution_count": 239,
   "metadata": {},
   "outputs": [],
   "source": [
    "from sklearn.linear_model import LogisticRegression\n",
    "\n",
    "X, y = make_moons(100, noise=0.2)\n",
    "estimator = LogisticRegression(solver=\"lbfgs\")\n",
    "split_fit_predict(estimator, X, y, train_pct=0.9)\n"
   ]
  },
  {
   "cell_type": "code",
   "execution_count": null,
   "metadata": {},
   "outputs": [],
   "source": []
  },
  {
   "cell_type": "code",
   "execution_count": null,
   "metadata": {},
   "outputs": [],
   "source": []
  },
  {
   "cell_type": "markdown",
   "metadata": {},
   "source": [
    "**submit your code**"
   ]
  },
  {
   "cell_type": "code",
   "execution_count": 74,
   "metadata": {
    "scrolled": false
   },
   "outputs": [],
   "source": [
    "student.submit_task(globals(), task_id=\"task_05\");\n"
   ]
  },
  {
   "cell_type": "code",
   "execution_count": null,
   "metadata": {},
   "outputs": [],
   "source": []
  }
 ],
 "metadata": {
  "kernelspec": {
   "display_name": "Python 3",
   "language": "python",
   "name": "python3"
  },
  "language_info": {
   "codemirror_mode": {
    "name": "ipython",
    "version": 3
   },
   "file_extension": ".py",
   "mimetype": "text/x-python",
   "name": "python",
   "nbconvert_exporter": "python",
   "pygments_lexer": "ipython3",
   "version": "3.7.3"
  }
 },
 "nbformat": 4,
 "nbformat_minor": 2
}
